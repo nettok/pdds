{
 "cells": [
  {
   "metadata": {},
   "cell_type": "markdown",
   "source": [
    "# Sección 1: Cálculo de Derivadas y Gradientes\n",
    "\n",
    "Calcula las derivadas/gradientes de las siguientes funciones y evalúalas en los puntos especificados. Puedes usar PyTorch, TensorFlow o ambos frameworks."
   ],
   "id": "8a77807f92f26ee"
  },
  {
   "metadata": {},
   "cell_type": "code",
   "source": "!pip install torch==2.9.0",
   "id": "80ab6cee8bf3509d",
   "outputs": [],
   "execution_count": null
  },
  {
   "metadata": {
    "ExecuteTime": {
     "end_time": "2025-10-21T00:35:55.211252Z",
     "start_time": "2025-10-21T00:35:55.205319Z"
    }
   },
   "cell_type": "code",
   "source": [
    "import torch\n",
    "import math\n",
    "\n",
    "def solve(f, *sample):\n",
    "    y = f(*sample)\n",
    "    y.backward()\n",
    "\n",
    "    sample_items = \", \".join([str(v.item()) for v in sample])\n",
    "    grad_items = \", \".join([str(v.grad.item()) for v in sample])\n",
    "\n",
    "    print(f\"f({sample_items}) = {y.item()}\")\n",
    "    print(f\"∇f({sample_items}) = [{grad_items}]\")\n",
    "    print()"
   ],
   "id": "94e4d5f2c7b42d8f",
   "outputs": [],
   "execution_count": 85
  },
  {
   "metadata": {},
   "cell_type": "markdown",
   "source": [
    "### 1. f₁(x) = 3x³ - 2x² + 5x - 1\n",
    "\n",
    "Evaluar en: x = -1, x = 0, x = 2"
   ],
   "id": "75e46aa58043e6f4"
  },
  {
   "metadata": {
    "ExecuteTime": {
     "end_time": "2025-10-21T00:35:55.281099Z",
     "start_time": "2025-10-21T00:35:55.269610Z"
    }
   },
   "cell_type": "code",
   "source": [
    "def f(x):\n",
    "    return 3*x**3 - 2*x**2 + 5*x - 1\n",
    "\n",
    "x1 = torch.tensor(-1.0, requires_grad=True)\n",
    "x2 = torch.tensor(0.0, requires_grad=True)\n",
    "x3 = torch.tensor(2.0, requires_grad=True)\n",
    "\n",
    "solve(f, x1)\n",
    "solve(f, x2)\n",
    "solve(f, x3)"
   ],
   "id": "5dd08b5d18404f51",
   "outputs": [
    {
     "name": "stdout",
     "output_type": "stream",
     "text": [
      "f(-1.0) = -11.0\n",
      "∇f(-1.0) = [18.0]\n",
      "\n",
      "f(0.0) = -1.0\n",
      "∇f(0.0) = [5.0]\n",
      "\n",
      "f(2.0) = 25.0\n",
      "∇f(2.0) = [33.0]\n",
      "\n"
     ]
    }
   ],
   "execution_count": 86
  },
  {
   "metadata": {},
   "cell_type": "markdown",
   "source": [
    "### 2. f₂(x, y) = x² + y² - 2xy + 4x\n",
    "\n",
    "Evaluar en: (1, 1), (-2, 3), (0, 0)\\\n",
    "Calcular ∇f₂ = [∂f/∂x, ∂f/∂y]"
   ],
   "id": "ba71736b6d8e62b0"
  },
  {
   "metadata": {
    "ExecuteTime": {
     "end_time": "2025-10-21T00:35:55.345649Z",
     "start_time": "2025-10-21T00:35:55.334778Z"
    }
   },
   "cell_type": "code",
   "source": [
    "def f(x, y):\n",
    "    return x**2 + y**2 - 2*x*y + 4*x\n",
    "\n",
    "# (1, 1)\n",
    "x1 = torch.tensor(1.0, requires_grad=True)\n",
    "y1 = torch.tensor(1.0, requires_grad=True)\n",
    "\n",
    "# (-2, 3)\n",
    "x2 = torch.tensor(-2.0, requires_grad=True)\n",
    "y2 = torch.tensor(3.0, requires_grad=True)\n",
    "\n",
    "# (0, 0)\n",
    "x3 = torch.tensor(0.0, requires_grad=True)\n",
    "y3 = torch.tensor(0.0, requires_grad=True)\n",
    "\n",
    "solve(f, x1, y1)\n",
    "solve(f, x2, y2)\n",
    "solve(f, x3, y3)"
   ],
   "id": "4691f1f3ca821d47",
   "outputs": [
    {
     "name": "stdout",
     "output_type": "stream",
     "text": [
      "f(1.0, 1.0) = 4.0\n",
      "∇f(1.0, 1.0) = [4.0, 0.0]\n",
      "\n",
      "f(-2.0, 3.0) = 17.0\n",
      "∇f(-2.0, 3.0) = [-6.0, 10.0]\n",
      "\n",
      "f(0.0, 0.0) = 0.0\n",
      "∇f(0.0, 0.0) = [4.0, 0.0]\n",
      "\n"
     ]
    }
   ],
   "execution_count": 87
  },
  {
   "metadata": {},
   "cell_type": "markdown",
   "source": [
    "### 3. f₃(x) = e^(-x²) · cos(x)\n",
    "\n",
    "Evaluar en: x = 0, x = π/4, x = 1"
   ],
   "id": "1d02b293d00be591"
  },
  {
   "metadata": {
    "ExecuteTime": {
     "end_time": "2025-10-21T00:35:55.407946Z",
     "start_time": "2025-10-21T00:35:55.398199Z"
    }
   },
   "cell_type": "code",
   "source": [
    "def f(x):\n",
    "    return torch.exp(-x**2) * torch.cos(x)\n",
    "\n",
    "x1 = torch.tensor(0.0, requires_grad=True)\n",
    "x2 = torch.tensor(math.pi/4, requires_grad=True)\n",
    "x3 = torch.tensor(1.0, requires_grad=True)\n",
    "\n",
    "solve(f, x1)\n",
    "solve(f, x2)\n",
    "solve(f, x3)"
   ],
   "id": "d9524c3d8935681b",
   "outputs": [
    {
     "name": "stdout",
     "output_type": "stream",
     "text": [
      "f(0.0) = 1.0\n",
      "∇f(0.0) = [-0.0]\n",
      "\n",
      "f(0.7853981852531433) = 0.381584107875824\n",
      "∇f(0.7853981852531433) = [-0.9809750318527222]\n",
      "\n",
      "f(1.0) = 0.19876612722873688\n",
      "∇f(1.0) = [-0.7070921659469604]\n",
      "\n"
     ]
    }
   ],
   "execution_count": 88
  },
  {
   "metadata": {},
   "cell_type": "markdown",
   "source": [
    "### 4. f₄(x, y, z) = x²y + y²z + z²x\n",
    "\n",
    "Evaluar en: (1, 2, 3), (-1, 0, 1), (2, 2, 2)\\\n",
    "Calcular ∇f₄ = [∂f/∂x, ∂f/∂y, ∂f/∂z]"
   ],
   "id": "7de6877a67c2de0b"
  },
  {
   "metadata": {
    "ExecuteTime": {
     "end_time": "2025-10-21T00:35:55.474797Z",
     "start_time": "2025-10-21T00:35:55.461718Z"
    }
   },
   "cell_type": "code",
   "source": [
    "def f(x, y, z):\n",
    "    return x**2 * y + y**2 * z + z**2 * x\n",
    "\n",
    "# (1, 2, 3)\n",
    "x1 = torch.tensor(1.0, requires_grad=True)\n",
    "y1 = torch.tensor(2.0, requires_grad=True)\n",
    "z1 = torch.tensor(3.0, requires_grad=True)\n",
    "\n",
    "# (-1, 0, 1)\n",
    "x2 = torch.tensor(-1.0, requires_grad=True)\n",
    "y2 = torch.tensor(0.0, requires_grad=True)\n",
    "z2 = torch.tensor(1.0, requires_grad=True)\n",
    "\n",
    "# (2, 2, 2)\n",
    "x3 = torch.tensor(2.0, requires_grad=True)\n",
    "y3 = torch.tensor(2.0, requires_grad=True)\n",
    "z3 = torch.tensor(2.0, requires_grad=True)\n",
    "\n",
    "solve(f, x1, y1, z1)\n",
    "solve(f, x2, y2, z2)\n",
    "solve(f, x3, y3, z3)"
   ],
   "id": "e6caac7d9c5bafbb",
   "outputs": [
    {
     "name": "stdout",
     "output_type": "stream",
     "text": [
      "f(1.0, 2.0, 3.0) = 23.0\n",
      "∇f(1.0, 2.0, 3.0) = [13.0, 13.0, 10.0]\n",
      "\n",
      "f(-1.0, 0.0, 1.0) = -1.0\n",
      "∇f(-1.0, 0.0, 1.0) = [1.0, 1.0, -2.0]\n",
      "\n",
      "f(2.0, 2.0, 2.0) = 24.0\n",
      "∇f(2.0, 2.0, 2.0) = [12.0, 12.0, 12.0]\n",
      "\n"
     ]
    }
   ],
   "execution_count": 89
  },
  {
   "metadata": {},
   "cell_type": "markdown",
   "source": [
    "### 5. f₅(x) = ln(1 + x²) + sin(2x)\n",
    "\n",
    "Evaluar en: x = -1, x = 0.5, x = 2"
   ],
   "id": "db5258fcc56697d5"
  },
  {
   "metadata": {
    "ExecuteTime": {
     "end_time": "2025-10-21T00:35:55.521515Z",
     "start_time": "2025-10-21T00:35:55.518442Z"
    }
   },
   "cell_type": "code",
   "source": [
    "def f(x):\n",
    "    return torch.log(1 + x**2) + torch.sin(2*x)\n",
    "\n",
    "x1 = torch.tensor(-1.0, requires_grad=True)\n",
    "x2 = torch.tensor(0.5, requires_grad=True)\n",
    "x3 = torch.tensor(2.0, requires_grad=True)\n",
    "\n",
    "solve(f, x1)\n",
    "solve(f, x2)\n",
    "solve(f, x3)"
   ],
   "id": "c7cf22a71fad8152",
   "outputs": [
    {
     "name": "stdout",
     "output_type": "stream",
     "text": [
      "f(-1.0) = -0.2161502242088318\n",
      "∇f(-1.0) = [-1.8322937488555908]\n",
      "\n",
      "f(0.5) = 1.0646145343780518\n",
      "∇f(0.5) = [1.8806047439575195]\n",
      "\n",
      "f(2.0) = 0.8526354432106018\n",
      "∇f(2.0) = [-0.5072872042655945]\n",
      "\n"
     ]
    }
   ],
   "execution_count": 90
  },
  {
   "metadata": {},
   "cell_type": "markdown",
   "source": [
    "# Sección 2: Optimización con Gradient Descent\n",
    "\n",
    "Implementa gradient descent para encontrar los valores óptimos de las siguientes funciones. Usa una tasa de aprendizaje apropiada e itera hasta convergencia."
   ],
   "id": "4e54ba432a7b0f81"
  },
  {
   "metadata": {
    "ExecuteTime": {
     "end_time": "2025-10-21T00:35:55.584124Z",
     "start_time": "2025-10-21T00:35:55.570956Z"
    }
   },
   "cell_type": "code",
   "source": [
    "import torch\n",
    "import matplotlib.pyplot as plt\n",
    "\n",
    "def gradient_descent(func, start_point, targets, learning_rate=0.1, max_iterations=10_000, direction=-1):\n",
    "    x = torch.tensor(start_point, dtype=torch.float32, requires_grad=True)\n",
    "    targets = torch.tensor(targets, dtype=torch.float32)\n",
    "\n",
    "    history = []\n",
    "\n",
    "    print(\"Starting gradient descent...\")\n",
    "    print(f\"Initial: x = {x.detach().numpy()}, f(x) = {func(x).item():.4f}\")\n",
    "\n",
    "    for i in range(max_iterations):\n",
    "        if x.grad is not None:\n",
    "            x.grad.zero_()\n",
    "\n",
    "        f = func(x)\n",
    "        f.backward()\n",
    "\n",
    "        if torch.norm(x.grad) < 0.001:\n",
    "            print(f\"Converged after {i} iterations!\")\n",
    "            break\n",
    "\n",
    "        with torch.no_grad():\n",
    "            x += direction * (learning_rate * x.grad)\n",
    "\n",
    "        history.append(f.item())\n",
    "\n",
    "        if i % 50 == 0:\n",
    "            print(f\"Iteration {i}: f(x) = {f.item():.6f}\")\n",
    "\n",
    "    print(f\"Final: x = {x.detach().numpy()}, f(x) = {func(x).item():.6f}\")\n",
    "    print(f\"Error = {(x - targets).detach().numpy()}\")\n",
    "\n",
    "    # Simple plot\n",
    "    plt.figure(figsize=(8, 4))\n",
    "    plt.plot(history, 'b-', linewidth=2)\n",
    "    plt.xlabel('Iteration')\n",
    "    plt.ylabel('f(x)')\n",
    "    plt.title('Convergence Progress')\n",
    "    plt.grid(True, alpha=0.3)\n",
    "    plt.show()"
   ],
   "id": "8cd2eabad55f538a",
   "outputs": [],
   "execution_count": 91
  },
  {
   "metadata": {},
   "cell_type": "markdown",
   "source": "## Funciones para minimizar",
   "id": "1317591f16be8e90"
  },
  {
   "metadata": {},
   "cell_type": "markdown",
   "source": [
    "### 1. g₁(x) = (x - 3)² + 5\n",
    "\n",
    "Valor objetivo (target): x* = 3, f(x*) = 5\\\n",
    "Punto inicial: x₀ = 10"
   ],
   "id": "307ec4b4896433d2"
  },
  {
   "metadata": {
    "ExecuteTime": {
     "end_time": "2025-10-21T00:35:55.686065Z",
     "start_time": "2025-10-21T00:35:55.632245Z"
    }
   },
   "cell_type": "code",
   "source": [
    "def f(x):\n",
    "    return (x[0] - 3)**2 + 5\n",
    "\n",
    "gradient_descent(f, [10.0], [3.0], 0.1)"
   ],
   "id": "b37d30adba67fc9e",
   "outputs": [
    {
     "name": "stdout",
     "output_type": "stream",
     "text": [
      "Starting gradient descent...\n",
      "Initial: x = [10.], f(x) = 54.0000\n",
      "Iteration 0: f(x) = 54.000000\n",
      "Converged after 43 iterations!\n",
      "Final: x = [3.0004764], f(x) = 5.000000\n",
      "Error = [0.00047636]\n"
     ]
    },
    {
     "data": {
      "text/plain": [
       "<Figure size 800x400 with 1 Axes>"
      ],
      "image/png": "[encoded data removed]"
     },
     "metadata": {},
     "output_type": "display_data",
     "jetTransient": {
      "display_id": null
     }
    }
   ],
   "execution_count": 92
  },
  {
   "metadata": {},
   "cell_type": "markdown",
   "source": [
    "### 2. g₂(x, y) = (x - 2)² + (y + 1)² + 10\n",
    "\n",
    "Valor objetivo: x* = 2, y* = -1, f(x*, y*) = 10\\\n",
    "Punto inicial: x₀ = -5, y₀ = 5"
   ],
   "id": "4d466cccbfbe7fdd"
  },
  {
   "metadata": {
    "ExecuteTime": {
     "end_time": "2025-10-21T00:35:55.735504Z",
     "start_time": "2025-10-21T00:35:55.690172Z"
    }
   },
   "cell_type": "code",
   "source": [
    "def f(x):\n",
    "    return (x[0] - 2)**2 + (x[1] + 1)**2 + 10\n",
    "\n",
    "gradient_descent(f, [-5.0, 5.0], [2.0, -1.0], 0.1)"
   ],
   "id": "7060c65549f5e069",
   "outputs": [
    {
     "name": "stdout",
     "output_type": "stream",
     "text": [
      "Starting gradient descent...\n",
      "Initial: x = [-5.  5.], f(x) = 95.0000\n",
      "Iteration 0: f(x) = 95.000000\n",
      "Converged after 45 iterations!\n",
      "Final: x = [ 1.9996951  -0.99973863], f(x) = 10.000000\n",
      "Error = [-0.00030494  0.00026137]\n"
     ]
    },
    {
     "data": {
      "text/plain": [
       "<Figure size 800x400 with 1 Axes>"
      ],
      "image/png": "[encoded data removed]"
     },
     "metadata": {},
     "output_type": "display_data",
     "jetTransient": {
      "display_id": null
     }
    }
   ],
   "execution_count": 93
  },
  {
   "metadata": {},
   "cell_type": "markdown",
   "source": [
    "### 3. g₃(x, y) = x² + 2y² - 2xy + 2x - 4y + 8\n",
    "\n",
    "Valor objetivo aproximado: f(x*, y*) ≈ 5.5\\\n",
    "Punto inicial: x₀ = 0, y₀ = 0"
   ],
   "id": "63b60870368fcbac"
  },
  {
   "metadata": {
    "ExecuteTime": {
     "end_time": "2025-10-21T00:35:55.813563Z",
     "start_time": "2025-10-21T00:35:55.741359Z"
    }
   },
   "cell_type": "code",
   "source": [
    "def f(x):\n",
    "    return x[0]**2 + 2*x[1]**2 - 2*x[0]*x[1] + 2*x[0] - 4*x[1] + 8\n",
    "\n",
    "gradient_descent(f, [0.0, 0.0], [-0.001, 0.999], 0.05)"
   ],
   "id": "6ad888cfe500a885",
   "outputs": [
    {
     "name": "stdout",
     "output_type": "stream",
     "text": [
      "Starting gradient descent...\n",
      "Initial: x = [0. 0.], f(x) = 8.0000\n",
      "Iteration 0: f(x) = 8.000000\n",
      "Iteration 50: f(x) = 6.002149\n",
      "Iteration 100: f(x) = 6.000044\n",
      "Iteration 150: f(x) = 6.000001\n",
      "Converged after 154 iterations!\n",
      "Final: x = [-0.00111123  0.99931324], f(x) = 6.000001\n",
      "Error = [-0.00011123  0.00031322]\n"
     ]
    },
    {
     "data": {
      "text/plain": [
       "<Figure size 800x400 with 1 Axes>"
      ],
      "image/png": "[encoded data removed]"
     },
     "metadata": {},
     "output_type": "display_data",
     "jetTransient": {
      "display_id": null
     }
    }
   ],
   "execution_count": 94
  },
  {
   "metadata": {},
   "cell_type": "markdown",
   "source": "## Funciones para maximizar",
   "id": "3484ab7df0924e60"
  },
  {
   "metadata": {},
   "cell_type": "markdown",
   "source": [
    "### 4. h₁(x) = -x² + 4x + 1\n",
    "\n",
    "Valor objetivo: x* = 2, f(x*) = 5\\\n",
    "Punto inicial: x₀ = -3"
   ],
   "id": "4b06ee59f57e8c30"
  },
  {
   "metadata": {
    "ExecuteTime": {
     "end_time": "2025-10-21T00:35:55.869916Z",
     "start_time": "2025-10-21T00:35:55.817947Z"
    }
   },
   "cell_type": "code",
   "source": [
    "def f(x):\n",
    "    return -x[0]**2 + 4*x[0] + 1\n",
    "\n",
    "gradient_descent(f, [-3.0], [2.0], 0.1, direction=1)"
   ],
   "id": "8e4d1fc112c442c9",
   "outputs": [
    {
     "name": "stdout",
     "output_type": "stream",
     "text": [
      "Starting gradient descent...\n",
      "Initial: x = [-3.], f(x) = -20.0000\n",
      "Iteration 0: f(x) = -20.000000\n",
      "Converged after 42 iterations!\n",
      "Final: x = [1.9995747], f(x) = 5.000000\n",
      "Error = [-0.00042534]\n"
     ]
    },
    {
     "data": {
      "text/plain": [
       "<Figure size 800x400 with 1 Axes>"
      ],
      "image/png": "[encoded data removed]"
     },
     "metadata": {},
     "output_type": "display_data",
     "jetTransient": {
      "display_id": null
     }
    }
   ],
   "execution_count": 95
  },
  {
   "metadata": {},
   "cell_type": "markdown",
   "source": [
    "### 5. h₂(x, y) = -(x - 1)² - (y - 2)² + 10\n",
    "\n",
    "Valor objetivo: x* = 1, y* = 2, f(x*, y*) = 10\\\n",
    "Punto inicial: x₀ = 5, y₀ = -2"
   ],
   "id": "1725316bd0be6da1"
  },
  {
   "metadata": {
    "ExecuteTime": {
     "end_time": "2025-10-21T00:35:55.924199Z",
     "start_time": "2025-10-21T00:35:55.873915Z"
    }
   },
   "cell_type": "code",
   "source": [
    "def f(x):\n",
    "    return -(x[0] - 1)**2 - (x[1] - 2)**2 + 10\n",
    "\n",
    "gradient_descent(f, [5.0, -2.0], [1.0, 2.0], 0.1, direction=1)"
   ],
   "id": "b04ef2b1d62a873c",
   "outputs": [
    {
     "name": "stdout",
     "output_type": "stream",
     "text": [
      "Starting gradient descent...\n",
      "Initial: x = [ 5. -2.], f(x) = -22.0000\n",
      "Iteration 0: f(x) = -22.000000\n",
      "Converged after 42 iterations!\n",
      "Final: x = [1.0003402 1.9996598], f(x) = 10.000000\n",
      "Error = [ 0.00034022 -0.00034022]\n"
     ]
    },
    {
     "data": {
      "text/plain": [
       "<Figure size 800x400 with 1 Axes>"
      ],
      "image/png": "[encoded data removed]"
     },
     "metadata": {},
     "output_type": "display_data",
     "jetTransient": {
      "display_id": null
     }
    }
   ],
   "execution_count": 96
  }
 ],
 "metadata": {
  "kernelspec": {
   "display_name": "Python 3",
   "language": "python",
   "name": "python3"
  },
  "language_info": {
   "codemirror_mode": {
    "name": "ipython",
    "version": 2
   },
   "file_extension": ".py",
   "mimetype": "text/x-python",
   "name": "python",
   "nbconvert_exporter": "python",
   "pygments_lexer": "ipython2",
   "version": "2.7.6"
  }
 },
 "nbformat": 4,
 "nbformat_minor": 5
}
